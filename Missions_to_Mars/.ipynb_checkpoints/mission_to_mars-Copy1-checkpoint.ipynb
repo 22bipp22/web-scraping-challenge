{
 "cells": [
  {
   "cell_type": "code",
   "execution_count": 1,
   "metadata": {},
   "outputs": [],
   "source": [
    "from splinter import Browser\n",
    "from bs4 import BeautifulSoup as bs\n",
    "import pandas as pd\n",
    "import requests"
   ]
  },
  {
   "cell_type": "code",
   "execution_count": 2,
   "metadata": {},
   "outputs": [
    {
     "name": "stdout",
     "output_type": "stream",
     "text": [
      "/usr/local/bin/chromedriver\r\n"
     ]
    }
   ],
   "source": [
    "## Set up splinter\n",
    "!which chromedriver"
   ]
  },
  {
   "cell_type": "code",
   "execution_count": 3,
   "metadata": {},
   "outputs": [],
   "source": [
    "executable_path = {'executable_path': '/usr/local/bin/chromedriver'}\n",
    "browser = Browser('chrome', **executable_path, headless=False)"
   ]
  },
  {
   "cell_type": "markdown",
   "metadata": {},
   "source": [
    "# NASA Mars News"
   ]
  },
  {
   "cell_type": "code",
   "execution_count": 8,
   "metadata": {},
   "outputs": [],
   "source": [
    "# Bring in the website to be scraped\n",
    "url = 'https://mars.nasa.gov/news'\n",
    "browser.visit(url)"
   ]
  },
  {
   "cell_type": "code",
   "execution_count": 9,
   "metadata": {},
   "outputs": [
    {
     "name": "stdout",
     "output_type": "stream",
     "text": [
      "Title: NASA's New Mars Rover Is Ready for Space Lasers\n",
      "Text: Perseverance is one of a few Mars spacecraft carrying laser retroreflectors. The devices could provide new science and safer Mars landings in the future.\n",
      "Title: NASA's New Mars Rover Will Use X-Rays to Hunt Fossils\n",
      "Text: PIXL, an instrument on the end of the Perseverance rover's arm, will search for chemical fingerprints left by ancient microbes.\n",
      "Title: My Culture, My Voice\n",
      "Text: In honor of Hispanic Heritage Month, Christina Hernandez, an instrument engineer on the Mars 2020 mission, talks about her childhood and journey to NASA.\n",
      "Title: NASA Readies Perseverance Mars Rover's Earthly Twin \n",
      "Text: Did you know NASA's next Mars rover has a nearly identical sibling on Earth for testing? Even better, it's about to roll for the first time through a replica Martian landscape.\n",
      "Title: NASA Engineers Checking InSight's Weather Sensors\n",
      "Text: An electronics issue is suspected to be preventing the sensors from sharing their data about Mars weather with the spacecraft.\n",
      "Title: Follow NASA's Perseverance Rover in Real Time on Its Way to Mars\n",
      "Text: A crisply rendered web application can show you where the agency's Mars 2020 mission is right now as it makes its way to the Red Planet for a Feb. 18, 2021, landing.\n",
      "Title: NASA Establishes Board to Initially Review Mars Sample Return Plans\n",
      "Text: The board will assist with analysis of current plans and goals for one of the most difficult missions humanity has ever undertaken.\n",
      "Title: NASA's Ingenuity Mars Helicopter Recharges Its Batteries in Flight\n",
      "Text: Headed to the Red Planet with the Perseverance rover, the pioneering helicopter is powered up for the first time in interplanetary space as part of a systems check.\n",
      "Title: Celebrate Mars Reconnaissance Orbiter's Views From Above\n",
      "Text: Marking its 15th anniversary since launch, one of the oldest spacecraft at the Red Planet has provided glimpses of dust devils, avalanches, and more.\n",
      "Title: NASA's MAVEN Observes Martian Night Sky Pulsing in Ultraviolet Light\n",
      "Text: Vast areas of the Martian night sky pulse in ultraviolet light, according to images from NASA’s MAVEN spacecraft. The results are being used to illuminate complex circulation patterns in the Martian atmosphere.\n",
      "Title: 8 Martian Postcards to Celebrate Curiosity's Landing Anniversary\n",
      "Text: The NASA rover touched down eight years ago, on Aug. 5, 2012, and will soon be joined by a second rover, Perseverance.\n",
      "Title: NASA, ULA Launch Mars 2020 Perseverance Rover Mission to Red Planet\n",
      "Text: The agency's Mars 2020 mission is on its way. It will land at Jezero Crater in about seven months, on Feb. 18, 2021. \n",
      "Title: NASA's Perseverance Rover Will Carry First Spacesuit Materials to Mars\n",
      "Text: In a Q&A, spacesuit designer Amy Ross explains how five samples, including a piece of helmet visor, will be tested aboard the rover, which is targeting a July 30 launch. \n",
      "Title: A New Video Captures the Science of NASA's Perseverance Mars Rover\n",
      "Text: With a targeted launch date of July 30, the next robotic scientist NASA is sending to the to the Red Planet has big ambitions.\n",
      "Title: NASA Invites Public to Share Excitement of Mars 2020 Perseverance Rover Launch\n",
      "Text: There are lots of ways to participate in the historic event, which is targeted for July 30.\n",
      "Title: NASA's Mars Perseverance Rover Passes Flight Readiness Review\n",
      "Text: ​The agency's Mars 2020 mission has one more big prelaunch review – the Launch Readiness Review, on July 27.\n",
      "Title: NASA to Broadcast Mars 2020 Perseverance Launch, Prelaunch Activities\n",
      "Text: Starting July 27, news activities will cover everything from mission engineering and science to returning samples from Mars to, of course, the launch itself.\n",
      "Title: 6 Things to Know About NASA's Ingenuity Mars Helicopter\n",
      "Text: The first helicopter attempting to fly on another planet is a marvel of engineering. Get up to speed with these key facts about its plans.\n",
      "Title: Join NASA for the Launch of the Mars 2020 Perseverance Rover\n",
      "Text: No matter where you live, choose from a menu of activities to join NASA as we \"Countdown to Mars\" and launch the Perseverance rover to the Red Planet.\n",
      "Title: NASA's Perseverance Rover Attached to Atlas V Rocket\n",
      "Text: Ready for its launch later in the month, the Mars-bound rover will touch terra firma no more.\n",
      "Title: 7 Things to Know About the Mars 2020 Perseverance Rover Mission\n",
      "Text: NASA's next rover to the Red Planet is slated to launch no earlier than July 30. These highlights will get you up to speed on the ambitious mission.\n",
      "Title: NASA's InSight Flexes Its Arm While Its 'Mole' Hits Pause\n",
      "Text: Now that the lander's robotic arm has helped the mole get underground, it will resume science activities that have been on hold.\n",
      "Title: Curiosity Mars Rover's Summer Road Trip Has Begun\n",
      "Text: After more than a year in the \"clay-bearing unit,\" Curiosity is making a mile-long journey around some deep sand so that it can explore higher up Mount Sharp.\n",
      "Title: How NASA's Mars Helicopter Will Reach the Red Planet's Surface\n",
      "Text: The small craft will seek to prove that powered, controlled flight is possible on another planet. But just getting it onto the surface of Mars will take a whole lot of ingenuity.\n",
      "Title: The Launch Is Approaching for NASA's Next Mars Rover, Perseverance\n",
      "Text: The Red Planet's surface has been visited by eight NASA spacecraft. The ninth will be the first that includes a roundtrip ticket in its flight plan. \n",
      "Title: NASA to Hold Mars 2020 Perseverance Rover Launch Briefing\n",
      "Text: Learn more about the agency's next Red Planet mission during a live event on June 17.\n",
      "Title: While Stargazing on Mars, NASA's Curiosity Rover Spots Earth and Venus\n",
      "Text: This new portrait of the Red Planet's neighbors was taken during a time when there's more dust in the air on Mars.\n",
      "Title: NASA's Mars Rover Drivers Need Your Help\n",
      "Text: Using an online tool to label Martian terrain types, you can train an artificial intelligence algorithm that could improve the way engineers guide the Curiosity rover.\n",
      "Title: Three New Views of Mars' Moon Phobos\n",
      "Text: Taken with the infrared camera aboard NASA's Odyssey orbiter, they reveal temperature variations on the small moon as it drifts into and out of Mars’ shadow.\n",
      "Title: The Extraordinary Sample-Gathering System of NASA's Perseverance Mars Rover\n",
      "Text: Two astronauts collected Moon rocks on Apollo 11. It will take three robotic systems working together to gather up the first Mars rock samples for return to Earth.\n",
      "Title: The Detective Aboard NASA's Perseverance Rover\n",
      "Text: An instrument called SHERLOC will, with the help of its partner WATSON, hunt for signs of ancient life by detecting organic molecules and minerals.\n",
      "Title: MAVEN Maps Electric Currents around Mars that are Fundamental to Atmospheric Loss\n",
      "Text: Five years after NASA’s MAVEN spacecraft entered into orbit around Mars, data from the mission has led to the creation of a map of electric current systems in the Martian atmosphere.\n",
      "Title: Air Deliveries Bring NASA's Perseverance Mars Rover Closer to Launch\n",
      "Text: A NASA Wallops Flight Facility cargo plane transported more than two tons of equipment — including the rover's sample collection tubes — to Florida for this summer's liftoff.\n",
      "Title: NASA Wins 4 Webbys, 4 People's Voice Awards\n",
      "Text: Winners include the JPL-managed \"Send Your Name to Mars\" campaign, NASA's Global Climate Change website and Solar System Interactive.\n",
      "Title: NASA's Perseverance Rover Goes Through Trials by Fire, Ice, Light and Sound\n",
      "Text: The agency's new Mars rover is put through a series of tests in vacuum chambers, acoustic chambers and more to get ready for the Red Planet.\n",
      "Title: NASA's Perseverance Rover Mission Getting in Shape for Launch\n",
      "Text: Stacking spacecraft components on top of each other is one of the final assembly steps before a mission launches to the Red Planet. \n",
      "Title: NASA Perseverance Mars Rover Scientists Train in the Nevada Desert\n",
      "Text: Team members searched for signs of ancient microscopic life there, just as NASA's latest rover will on the Red Planet next year.\n",
      "Title: NASA's Perseverance Rover Will Look at Mars Through These 'Eyes'\n",
      "Text: A pair of zoomable cameras will help scientists and rover drivers with high-resolution color images.\n",
      "Title: Meet the People Behind NASA's Perseverance Rover\n",
      "Text: These are the scientists and engineers who built NASA's next Mars rover and who will guide it to a safe landing in Jezero Crater. \n",
      "Title: Q&A with the Student Who Named Ingenuity, NASA's Mars Helicopter\n",
      "Text: As a longtime fan of space exploration, Vaneeza Rupani appreciates the creativity and collaboration involved with trying to fly on another planet.\n"
     ]
    },
    {
     "name": "stdout",
     "output_type": "stream",
     "text": [
      "Scraping Complete\n",
      "Title: NASA's New Mars Rover Is Ready for Space Lasers\n",
      "Text: Perseverance is one of a few Mars spacecraft carrying laser retroreflectors. The devices could provide new science and safer Mars landings in the future.\n",
      "Title: NASA's New Mars Rover Will Use X-Rays to Hunt Fossils\n",
      "Text: PIXL, an instrument on the end of the Perseverance rover's arm, will search for chemical fingerprints left by ancient microbes.\n",
      "Title: My Culture, My Voice\n",
      "Text: In honor of Hispanic Heritage Month, Christina Hernandez, an instrument engineer on the Mars 2020 mission, talks about her childhood and journey to NASA.\n",
      "Title: NASA Readies Perseverance Mars Rover's Earthly Twin \n",
      "Text: Did you know NASA's next Mars rover has a nearly identical sibling on Earth for testing? Even better, it's about to roll for the first time through a replica Martian landscape.\n",
      "Title: NASA Engineers Checking InSight's Weather Sensors\n",
      "Text: An electronics issue is suspected to be preventing the sensors from sharing their data about Mars weather with the spacecraft.\n",
      "Title: Follow NASA's Perseverance Rover in Real Time on Its Way to Mars\n",
      "Text: A crisply rendered web application can show you where the agency's Mars 2020 mission is right now as it makes its way to the Red Planet for a Feb. 18, 2021, landing.\n",
      "Title: NASA Establishes Board to Initially Review Mars Sample Return Plans\n",
      "Text: The board will assist with analysis of current plans and goals for one of the most difficult missions humanity has ever undertaken.\n",
      "Title: NASA's Ingenuity Mars Helicopter Recharges Its Batteries in Flight\n",
      "Text: Headed to the Red Planet with the Perseverance rover, the pioneering helicopter is powered up for the first time in interplanetary space as part of a systems check.\n",
      "Title: Celebrate Mars Reconnaissance Orbiter's Views From Above\n",
      "Text: Marking its 15th anniversary since launch, one of the oldest spacecraft at the Red Planet has provided glimpses of dust devils, avalanches, and more.\n",
      "Title: NASA's MAVEN Observes Martian Night Sky Pulsing in Ultraviolet Light\n",
      "Text: Vast areas of the Martian night sky pulse in ultraviolet light, according to images from NASA’s MAVEN spacecraft. The results are being used to illuminate complex circulation patterns in the Martian atmosphere.\n",
      "Title: 8 Martian Postcards to Celebrate Curiosity's Landing Anniversary\n",
      "Text: The NASA rover touched down eight years ago, on Aug. 5, 2012, and will soon be joined by a second rover, Perseverance.\n",
      "Title: NASA, ULA Launch Mars 2020 Perseverance Rover Mission to Red Planet\n",
      "Text: The agency's Mars 2020 mission is on its way. It will land at Jezero Crater in about seven months, on Feb. 18, 2021. \n",
      "Title: NASA's Perseverance Rover Will Carry First Spacesuit Materials to Mars\n",
      "Text: In a Q&A, spacesuit designer Amy Ross explains how five samples, including a piece of helmet visor, will be tested aboard the rover, which is targeting a July 30 launch. \n",
      "Title: A New Video Captures the Science of NASA's Perseverance Mars Rover\n",
      "Text: With a targeted launch date of July 30, the next robotic scientist NASA is sending to the to the Red Planet has big ambitions.\n",
      "Title: NASA Invites Public to Share Excitement of Mars 2020 Perseverance Rover Launch\n",
      "Text: There are lots of ways to participate in the historic event, which is targeted for July 30.\n",
      "Title: NASA's Mars Perseverance Rover Passes Flight Readiness Review\n",
      "Text: ​The agency's Mars 2020 mission has one more big prelaunch review – the Launch Readiness Review, on July 27.\n",
      "Title: NASA to Broadcast Mars 2020 Perseverance Launch, Prelaunch Activities\n",
      "Text: Starting July 27, news activities will cover everything from mission engineering and science to returning samples from Mars to, of course, the launch itself.\n",
      "Title: 6 Things to Know About NASA's Ingenuity Mars Helicopter\n",
      "Text: The first helicopter attempting to fly on another planet is a marvel of engineering. Get up to speed with these key facts about its plans.\n",
      "Title: Join NASA for the Launch of the Mars 2020 Perseverance Rover\n",
      "Text: No matter where you live, choose from a menu of activities to join NASA as we \"Countdown to Mars\" and launch the Perseverance rover to the Red Planet.\n",
      "Title: NASA's Perseverance Rover Attached to Atlas V Rocket\n",
      "Text: Ready for its launch later in the month, the Mars-bound rover will touch terra firma no more.\n",
      "Title: 7 Things to Know About the Mars 2020 Perseverance Rover Mission\n",
      "Text: NASA's next rover to the Red Planet is slated to launch no earlier than July 30. These highlights will get you up to speed on the ambitious mission.\n",
      "Title: NASA's InSight Flexes Its Arm While Its 'Mole' Hits Pause\n",
      "Text: Now that the lander's robotic arm has helped the mole get underground, it will resume science activities that have been on hold.\n",
      "Title: Curiosity Mars Rover's Summer Road Trip Has Begun\n",
      "Text: After more than a year in the \"clay-bearing unit,\" Curiosity is making a mile-long journey around some deep sand so that it can explore higher up Mount Sharp.\n",
      "Title: How NASA's Mars Helicopter Will Reach the Red Planet's Surface\n",
      "Text: The small craft will seek to prove that powered, controlled flight is possible on another planet. But just getting it onto the surface of Mars will take a whole lot of ingenuity.\n",
      "Title: The Launch Is Approaching for NASA's Next Mars Rover, Perseverance\n",
      "Text: The Red Planet's surface has been visited by eight NASA spacecraft. The ninth will be the first that includes a roundtrip ticket in its flight plan. \n",
      "Title: NASA to Hold Mars 2020 Perseverance Rover Launch Briefing\n",
      "Text: Learn more about the agency's next Red Planet mission during a live event on June 17.\n",
      "Title: While Stargazing on Mars, NASA's Curiosity Rover Spots Earth and Venus\n",
      "Text: This new portrait of the Red Planet's neighbors was taken during a time when there's more dust in the air on Mars.\n",
      "Title: NASA's Mars Rover Drivers Need Your Help\n",
      "Text: Using an online tool to label Martian terrain types, you can train an artificial intelligence algorithm that could improve the way engineers guide the Curiosity rover.\n",
      "Title: Three New Views of Mars' Moon Phobos\n",
      "Text: Taken with the infrared camera aboard NASA's Odyssey orbiter, they reveal temperature variations on the small moon as it drifts into and out of Mars’ shadow.\n",
      "Title: The Extraordinary Sample-Gathering System of NASA's Perseverance Mars Rover\n",
      "Text: Two astronauts collected Moon rocks on Apollo 11. It will take three robotic systems working together to gather up the first Mars rock samples for return to Earth.\n",
      "Title: The Detective Aboard NASA's Perseverance Rover\n",
      "Text: An instrument called SHERLOC will, with the help of its partner WATSON, hunt for signs of ancient life by detecting organic molecules and minerals.\n",
      "Title: MAVEN Maps Electric Currents around Mars that are Fundamental to Atmospheric Loss\n",
      "Text: Five years after NASA’s MAVEN spacecraft entered into orbit around Mars, data from the mission has led to the creation of a map of electric current systems in the Martian atmosphere.\n",
      "Title: Air Deliveries Bring NASA's Perseverance Mars Rover Closer to Launch\n",
      "Text: A NASA Wallops Flight Facility cargo plane transported more than two tons of equipment — including the rover's sample collection tubes — to Florida for this summer's liftoff.\n",
      "Title: NASA Wins 4 Webbys, 4 People's Voice Awards\n",
      "Text: Winners include the JPL-managed \"Send Your Name to Mars\" campaign, NASA's Global Climate Change website and Solar System Interactive.\n",
      "Title: NASA's Perseverance Rover Goes Through Trials by Fire, Ice, Light and Sound\n",
      "Text: The agency's new Mars rover is put through a series of tests in vacuum chambers, acoustic chambers and more to get ready for the Red Planet.\n",
      "Title: NASA's Perseverance Rover Mission Getting in Shape for Launch\n",
      "Text: Stacking spacecraft components on top of each other is one of the final assembly steps before a mission launches to the Red Planet. \n",
      "Title: NASA Perseverance Mars Rover Scientists Train in the Nevada Desert\n",
      "Text: Team members searched for signs of ancient microscopic life there, just as NASA's latest rover will on the Red Planet next year.\n",
      "Title: NASA's Perseverance Rover Will Look at Mars Through These 'Eyes'\n",
      "Text: A pair of zoomable cameras will help scientists and rover drivers with high-resolution color images.\n",
      "Title: Meet the People Behind NASA's Perseverance Rover\n",
      "Text: These are the scientists and engineers who built NASA's next Mars rover and who will guide it to a safe landing in Jezero Crater. \n",
      "Title: Q&A with the Student Who Named Ingenuity, NASA's Mars Helicopter\n",
      "Text: As a longtime fan of space exploration, Vaneeza Rupani appreciates the creativity and collaboration involved with trying to fly on another planet.\n"
     ]
    },
    {
     "name": "stdout",
     "output_type": "stream",
     "text": [
      "Scraping Complete\n"
     ]
    }
   ],
   "source": [
    "#Iterate through x number of pages:\n",
    "for x in range(2):\n",
    "    \n",
    "    html=browser.html\n",
    "    \n",
    "    soup=bs(html, 'html.parser')\n",
    "    articles = soup.find_all('li', class_='slide')\n",
    "    \n",
    "    #Iterate through each news article\n",
    "    for article in articles:\n",
    "        news_title = article.find('div', class_='content_title').text\n",
    "        news_p = article.find('div', class_='article_teaser_body').text\n",
    "        print(f\"Title: {news_title}\")\n",
    "        print(f\"Text: {news_p}\")\n",
    "\n",
    "    # Click the 'More' button on each page\n",
    "    try:\n",
    "        browser.click_link_by_partial_text('More')\n",
    "        \n",
    "    except:\n",
    "        print(\"Scraping Complete\")"
   ]
  },
  {
   "cell_type": "markdown",
   "metadata": {},
   "source": [
    "# JPL Mars Space Images"
   ]
  },
  {
   "cell_type": "code",
   "execution_count": 7,
   "metadata": {},
   "outputs": [],
   "source": [
    "# Bring in the website to be scraped\n",
    "url = 'https://www.jpl.nasa.gov/spaceimages/?search=&category=Mars'\n",
    "browser.visit(url)"
   ]
  },
  {
   "cell_type": "code",
   "execution_count": 25,
   "metadata": {},
   "outputs": [
    {
     "data": {
      "text/plain": [
       "'https://www.jpl.nasa.gov/spaceimages/images/mediumsize/PIA16726_ip.jpg'"
      ]
     },
     "execution_count": 25,
     "metadata": {},
     "output_type": "execute_result"
    }
   ],
   "source": [
    "##Get featured image from url\n",
    "html = browser.html\n",
    "soup = bs(html, 'html.parser')\n",
    "\n",
    "result = soup.find('div', class_='fancybox-inner')\n",
    "\n",
    "featured_image_url = f\"https://www.jpl.nasa.gov{result.img['src']}\"\n",
    "featured_image_url"
   ]
  },
  {
   "cell_type": "markdown",
   "metadata": {},
   "source": [
    "# Mars Facts"
   ]
  },
  {
   "cell_type": "code",
   "execution_count": 26,
   "metadata": {},
   "outputs": [],
   "source": [
    "url = 'https://space-facts.com/mars/'"
   ]
  },
  {
   "cell_type": "code",
   "execution_count": 27,
   "metadata": {},
   "outputs": [
    {
     "data": {
      "text/plain": [
       "[                      0                              1\n",
       " 0  Equatorial Diameter:                       6,792 km\n",
       " 1       Polar Diameter:                       6,752 km\n",
       " 2                 Mass:  6.39 × 10^23 kg (0.11 Earths)\n",
       " 3                Moons:            2 (Phobos & Deimos)\n",
       " 4       Orbit Distance:       227,943,824 km (1.38 AU)\n",
       " 5         Orbit Period:           687 days (1.9 years)\n",
       " 6  Surface Temperature:                   -87 to -5 °C\n",
       " 7         First Record:              2nd millennium BC\n",
       " 8          Recorded By:           Egyptian astronomers,\n",
       "   Mars - Earth Comparison             Mars            Earth\n",
       " 0               Diameter:         6,779 km        12,742 km\n",
       " 1                   Mass:  6.39 × 10^23 kg  5.97 × 10^24 kg\n",
       " 2                  Moons:                2                1\n",
       " 3      Distance from Sun:   227,943,824 km   149,598,262 km\n",
       " 4         Length of Year:   687 Earth days      365.24 days\n",
       " 5            Temperature:     -87 to -5 °C      -88 to 58°C,\n",
       "                       0                              1\n",
       " 0  Equatorial Diameter:                       6,792 km\n",
       " 1       Polar Diameter:                       6,752 km\n",
       " 2                 Mass:  6.39 × 10^23 kg (0.11 Earths)\n",
       " 3                Moons:            2 (Phobos & Deimos)\n",
       " 4       Orbit Distance:       227,943,824 km (1.38 AU)\n",
       " 5         Orbit Period:           687 days (1.9 years)\n",
       " 6  Surface Temperature:                   -87 to -5 °C\n",
       " 7         First Record:              2nd millennium BC\n",
       " 8          Recorded By:           Egyptian astronomers]"
      ]
     },
     "execution_count": 27,
     "metadata": {},
     "output_type": "execute_result"
    }
   ],
   "source": [
    "tables = pd.read_html(url)\n",
    "tables"
   ]
  },
  {
   "cell_type": "code",
   "execution_count": 34,
   "metadata": {},
   "outputs": [
    {
     "data": {
      "text/html": [
       "<div>\n",
       "<style scoped>\n",
       "    .dataframe tbody tr th:only-of-type {\n",
       "        vertical-align: middle;\n",
       "    }\n",
       "\n",
       "    .dataframe tbody tr th {\n",
       "        vertical-align: top;\n",
       "    }\n",
       "\n",
       "    .dataframe thead th {\n",
       "        text-align: right;\n",
       "    }\n",
       "</style>\n",
       "<table border=\"1\" class=\"dataframe\">\n",
       "  <thead>\n",
       "    <tr style=\"text-align: right;\">\n",
       "      <th></th>\n",
       "      <th>1</th>\n",
       "    </tr>\n",
       "    <tr>\n",
       "      <th>0</th>\n",
       "      <th></th>\n",
       "    </tr>\n",
       "  </thead>\n",
       "  <tbody>\n",
       "    <tr>\n",
       "      <th>Equatorial Diameter:</th>\n",
       "      <td>6,792 km</td>\n",
       "    </tr>\n",
       "    <tr>\n",
       "      <th>Polar Diameter:</th>\n",
       "      <td>6,752 km</td>\n",
       "    </tr>\n",
       "    <tr>\n",
       "      <th>Mass:</th>\n",
       "      <td>6.39 × 10^23 kg (0.11 Earths)</td>\n",
       "    </tr>\n",
       "    <tr>\n",
       "      <th>Moons:</th>\n",
       "      <td>2 (Phobos &amp; Deimos)</td>\n",
       "    </tr>\n",
       "    <tr>\n",
       "      <th>Orbit Distance:</th>\n",
       "      <td>227,943,824 km (1.38 AU)</td>\n",
       "    </tr>\n",
       "    <tr>\n",
       "      <th>Orbit Period:</th>\n",
       "      <td>687 days (1.9 years)</td>\n",
       "    </tr>\n",
       "    <tr>\n",
       "      <th>Surface Temperature:</th>\n",
       "      <td>-87 to -5 °C</td>\n",
       "    </tr>\n",
       "    <tr>\n",
       "      <th>First Record:</th>\n",
       "      <td>2nd millennium BC</td>\n",
       "    </tr>\n",
       "    <tr>\n",
       "      <th>Recorded By:</th>\n",
       "      <td>Egyptian astronomers</td>\n",
       "    </tr>\n",
       "  </tbody>\n",
       "</table>\n",
       "</div>"
      ],
      "text/plain": [
       "                                                  1\n",
       "0                                                  \n",
       "Equatorial Diameter:                       6,792 km\n",
       "Polar Diameter:                            6,752 km\n",
       "Mass:                 6.39 × 10^23 kg (0.11 Earths)\n",
       "Moons:                          2 (Phobos & Deimos)\n",
       "Orbit Distance:            227,943,824 km (1.38 AU)\n",
       "Orbit Period:                  687 days (1.9 years)\n",
       "Surface Temperature:                   -87 to -5 °C\n",
       "First Record:                     2nd millennium BC\n",
       "Recorded By:                   Egyptian astronomers"
      ]
     },
     "execution_count": 34,
     "metadata": {},
     "output_type": "execute_result"
    }
   ],
   "source": [
    "##Save Mars information to dataframe and set the index to the info fields\n",
    "df = tables[0]\n",
    "\n",
    "df.set_index(0, inplace=True)\n",
    "df"
   ]
  },
  {
   "cell_type": "code",
   "execution_count": 35,
   "metadata": {},
   "outputs": [
    {
     "data": {
      "text/html": [
       "<div>\n",
       "<style scoped>\n",
       "    .dataframe tbody tr th:only-of-type {\n",
       "        vertical-align: middle;\n",
       "    }\n",
       "\n",
       "    .dataframe tbody tr th {\n",
       "        vertical-align: top;\n",
       "    }\n",
       "\n",
       "    .dataframe thead th {\n",
       "        text-align: right;\n",
       "    }\n",
       "</style>\n",
       "<table border=\"1\" class=\"dataframe\">\n",
       "  <thead>\n",
       "    <tr style=\"text-align: right;\">\n",
       "      <th></th>\n",
       "      <th>Equatorial Diameter:</th>\n",
       "      <th>Polar Diameter:</th>\n",
       "      <th>Mass:</th>\n",
       "      <th>Moons:</th>\n",
       "      <th>Orbit Distance:</th>\n",
       "      <th>Orbit Period:</th>\n",
       "      <th>Surface Temperature:</th>\n",
       "      <th>First Record:</th>\n",
       "      <th>Recorded By:</th>\n",
       "    </tr>\n",
       "  </thead>\n",
       "  <tbody>\n",
       "    <tr>\n",
       "      <th>1</th>\n",
       "      <td>6,792 km</td>\n",
       "      <td>6,752 km</td>\n",
       "      <td>6.39 × 10^23 kg (0.11 Earths)</td>\n",
       "      <td>2 (Phobos &amp; Deimos)</td>\n",
       "      <td>227,943,824 km (1.38 AU)</td>\n",
       "      <td>687 days (1.9 years)</td>\n",
       "      <td>-87 to -5 °C</td>\n",
       "      <td>2nd millennium BC</td>\n",
       "      <td>Egyptian astronomers</td>\n",
       "    </tr>\n",
       "  </tbody>\n",
       "</table>\n",
       "</div>"
      ],
      "text/plain": [
       "0 Equatorial Diameter: Polar Diameter:                          Mass:  \\\n",
       "1             6,792 km        6,752 km  6.39 × 10^23 kg (0.11 Earths)   \n",
       "\n",
       "0               Moons:           Orbit Distance:         Orbit Period:  \\\n",
       "1  2 (Phobos & Deimos)  227,943,824 km (1.38 AU)  687 days (1.9 years)   \n",
       "\n",
       "0 Surface Temperature:      First Record:          Recorded By:  \n",
       "1         -87 to -5 °C  2nd millennium BC  Egyptian astronomers  "
      ]
     },
     "execution_count": 35,
     "metadata": {},
     "output_type": "execute_result"
    }
   ],
   "source": [
    "#transpose the dataframe \n",
    "df = df.transpose()\n",
    "df"
   ]
  },
  {
   "cell_type": "code",
   "execution_count": 36,
   "metadata": {},
   "outputs": [
    {
     "data": {
      "text/plain": [
       "'<table border=\"1\" class=\"dataframe\">\\n  <thead>\\n    <tr style=\"text-align: right;\">\\n      <th></th>\\n      <th>Equatorial Diameter:</th>\\n      <th>Polar Diameter:</th>\\n      <th>Mass:</th>\\n      <th>Moons:</th>\\n      <th>Orbit Distance:</th>\\n      <th>Orbit Period:</th>\\n      <th>Surface Temperature:</th>\\n      <th>First Record:</th>\\n      <th>Recorded By:</th>\\n    </tr>\\n  </thead>\\n  <tbody>\\n    <tr>\\n      <th>1</th>\\n      <td>6,792 km</td>\\n      <td>6,752 km</td>\\n      <td>6.39 × 10^23 kg (0.11 Earths)</td>\\n      <td>2 (Phobos &amp; Deimos)</td>\\n      <td>227,943,824 km (1.38 AU)</td>\\n      <td>687 days (1.9 years)</td>\\n      <td>-87 to -5 °C</td>\\n      <td>2nd millennium BC</td>\\n      <td>Egyptian astronomers</td>\\n    </tr>\\n  </tbody>\\n</table>'"
      ]
     },
     "execution_count": 36,
     "metadata": {},
     "output_type": "execute_result"
    }
   ],
   "source": [
    "##create and HTML table string\n",
    "html_table = df.to_html()\n",
    "html_table"
   ]
  },
  {
   "cell_type": "markdown",
   "metadata": {},
   "source": [
    "# Mars Hemispheres"
   ]
  },
  {
   "cell_type": "code",
   "execution_count": 52,
   "metadata": {},
   "outputs": [],
   "source": [
    "# Bring in the website to be scraped\n",
    "url = 'https://astrogeology.usgs.gov/search/results?q=hemisphere+enhanced&k1=target&v1=Mars'\n",
    "browser.visit(url)"
   ]
  },
  {
   "cell_type": "code",
   "execution_count": 53,
   "metadata": {},
   "outputs": [
    {
     "name": "stdout",
     "output_type": "stream",
     "text": [
      "['Cerberus Hemisphere Enhanced', 'Schiaparelli Hemisphere Enhanced', 'Syrtis Major Hemisphere Enhanced', 'Valles Marineris Hemisphere Enhanced'] ['https://astropedia.astrogeology.usgs.gov/download/Mars/Viking/cerberus_enhanced.tif', 'https://astropedia.astrogeology.usgs.gov/download/Mars/Viking/schiaparelli_enhanced.tif', 'https://astropedia.astrogeology.usgs.gov/download/Mars/Viking/syrtis_major_enhanced.tif', 'https://astropedia.astrogeology.usgs.gov/download/Mars/Viking/valles_marineris_enhanced.tif']\n"
     ]
    }
   ],
   "source": [
    "##Get hemisphere search results\n",
    "html = browser.html\n",
    "soup = bs(html, 'html.parser')\n",
    "\n",
    "results = soup.find_all('div', class_='item')\n",
    "title = []\n",
    "img_url = []\n",
    "\n",
    "##iterate through the hemisphere pages by visiting each page to get title and image url\n",
    "for result in results:\n",
    "    \n",
    "    link = \"https://astrogeology.usgs.gov\" + result.find('a', class_='itemLink product-item')['href']\n",
    "    browser.visit(link)\n",
    "    html = browser.html\n",
    "    soup = bs(html,'html.parser')\n",
    "    page_result = soup.find('div', class_='content')\n",
    "    \n",
    "    title.append(page_result.find('h2', class_='title').text)\n",
    "    img_url.append(page_result.find('a')['href'])\n",
    "\n",
    " \n",
    "\n",
    "\n",
    "print(title, img_url)\n",
    "\n"
   ]
  },
  {
   "cell_type": "code",
   "execution_count": 56,
   "metadata": {},
   "outputs": [
    {
     "data": {
      "text/html": [
       "<div>\n",
       "<style scoped>\n",
       "    .dataframe tbody tr th:only-of-type {\n",
       "        vertical-align: middle;\n",
       "    }\n",
       "\n",
       "    .dataframe tbody tr th {\n",
       "        vertical-align: top;\n",
       "    }\n",
       "\n",
       "    .dataframe thead th {\n",
       "        text-align: right;\n",
       "    }\n",
       "</style>\n",
       "<table border=\"1\" class=\"dataframe\">\n",
       "  <thead>\n",
       "    <tr style=\"text-align: right;\">\n",
       "      <th></th>\n",
       "      <th>title</th>\n",
       "      <th>img_url</th>\n",
       "    </tr>\n",
       "  </thead>\n",
       "  <tbody>\n",
       "    <tr>\n",
       "      <th>0</th>\n",
       "      <td>Cerberus Hemisphere Enhanced</td>\n",
       "      <td>https://astropedia.astrogeology.usgs.gov/downl...</td>\n",
       "    </tr>\n",
       "    <tr>\n",
       "      <th>1</th>\n",
       "      <td>Schiaparelli Hemisphere Enhanced</td>\n",
       "      <td>https://astropedia.astrogeology.usgs.gov/downl...</td>\n",
       "    </tr>\n",
       "    <tr>\n",
       "      <th>2</th>\n",
       "      <td>Syrtis Major Hemisphere Enhanced</td>\n",
       "      <td>https://astropedia.astrogeology.usgs.gov/downl...</td>\n",
       "    </tr>\n",
       "    <tr>\n",
       "      <th>3</th>\n",
       "      <td>Valles Marineris Hemisphere Enhanced</td>\n",
       "      <td>https://astropedia.astrogeology.usgs.gov/downl...</td>\n",
       "    </tr>\n",
       "  </tbody>\n",
       "</table>\n",
       "</div>"
      ],
      "text/plain": [
       "                                  title  \\\n",
       "0          Cerberus Hemisphere Enhanced   \n",
       "1      Schiaparelli Hemisphere Enhanced   \n",
       "2      Syrtis Major Hemisphere Enhanced   \n",
       "3  Valles Marineris Hemisphere Enhanced   \n",
       "\n",
       "                                             img_url  \n",
       "0  https://astropedia.astrogeology.usgs.gov/downl...  \n",
       "1  https://astropedia.astrogeology.usgs.gov/downl...  \n",
       "2  https://astropedia.astrogeology.usgs.gov/downl...  \n",
       "3  https://astropedia.astrogeology.usgs.gov/downl...  "
      ]
     },
     "execution_count": 56,
     "metadata": {},
     "output_type": "execute_result"
    }
   ],
   "source": [
    "#Save hemisphere info to a dataframe\n",
    "hemisphere_image_urls = pd.DataFrame({\n",
    "    \"title\": title,\n",
    "    \"img_url\": img_url\n",
    "})\n",
    "    \n",
    "hemisphere_image_urls"
   ]
  },
  {
   "cell_type": "code",
   "execution_count": null,
   "metadata": {},
   "outputs": [],
   "source": []
  }
 ],
 "metadata": {
  "kernelspec": {
   "display_name": "Python 3",
   "language": "python",
   "name": "python3"
  },
  "language_info": {
   "codemirror_mode": {
    "name": "ipython",
    "version": 3
   },
   "file_extension": ".py",
   "mimetype": "text/x-python",
   "name": "python",
   "nbconvert_exporter": "python",
   "pygments_lexer": "ipython3",
   "version": "3.6.10"
  }
 },
 "nbformat": 4,
 "nbformat_minor": 4
}
